{
 "cells": [
  {
   "cell_type": "markdown",
   "metadata": {
    "id": "view-in-github",
    "colab_type": "text"
   },
   "source": [
    "<a href=\"https://colab.research.google.com/github/Madushika-Pramod/algo-trading/blob/trailing_stop_strategy_adoptive/algo.ipynb\" target=\"_parent\"><img src=\"https://colab.research.google.com/assets/colab-badge.svg\" alt=\"Open In Colab\"/></a>"
   ]
  },
  {
   "cell_type": "code",
   "execution_count": null,
   "metadata": {
    "id": "oQTM24Re_eLD"
   },
   "outputs": [],
   "source": [
    "from google.colab import drive\n",
    "\n",
    "drive.mount('/content/drive')\n",
    "!pip install pdm\n",
    "!cp /content/drive/MyDrive/Algo/libs/libta_lib.so.0 /usr/lib\n",
    "%cd \"/content/drive/MyDrive/Algo/algo-trading\"\n"
   ]
  },
  {
   "cell_type": "code",
   "source": [
    "# Number of CPU threads: 2\n",
    "start_count = 1000\n",
    "increment = 4\n",
    "\n",
    "\n",
    "\n",
    "\n",
    "!pdm run tune --count {start_count} {increment}"
   ],
   "metadata": {
    "colab": {
     "base_uri": "https://localhost:8080/"
    },
    "id": "Q7qFPwhbbkIG",
    "outputId": "27207a75-3581-4c8b-fe4b-0a0fe3437732"
   },
   "execution_count": 7,
   "outputs": [
    {
     "output_type": "stream",
     "name": "stdout",
     "text": [
      "count : 1004\n",
      "Best ROI: 4.2%\n",
      " Period Slow: 28\n",
      " high_low_period: 8\n",
      " high_low_error: 0.5\n",
      " Buy Gain value: 2.5\n",
      " Sell Gain value: 2.5\n",
      "1004-1004\n",
      "count : 1000\n",
      "Best ROI: 4.2%\n",
      " Period Slow: 28\n",
      " high_low_period: 8\n",
      " high_low_error: 0.5\n",
      " Buy Gain value: 4.0\n",
      " Sell Gain value: 2.0\n",
      "1000-1000\n",
      "1001-1000\n",
      "1005-1004\n",
      "1002-1000\n",
      "1006-1004\n",
      "1003-1000\n",
      "Last Count: 1004\n",
      "Best ROI: 4.2% at count : 1000\n",
      "Process Process-1:\n",
      "1007-1004\n",
      "Last Count: 1008\n",
      "Best ROI: 4.2% at count : 1004\n",
      "Traceback (most recent call last):\n",
      "  File \"/usr/lib/python3.10/multiprocessing/process.py\", line 314, in _bootstrap\n",
      "    self.run()\n",
      "  File \"/usr/lib/python3.10/multiprocessing/process.py\", line 108, in run\n",
      "    self._target(*self._args, **self._kwargs)\n",
      "  File \"/content/drive/MyDrive/Algo/algo-trading/src/app/src/cli_v2.py\", line 269, in sma_cross_v2_config_process\n",
      "    return get_sma_cross_strategy_v2_optimum_params(**config)\n",
      "  File \"/content/drive/MyDrive/Algo/algo-trading/src/app/src/cli_v2.py\", line 221, in get_sma_cross_strategy_v2_optimum_params\n",
      "    raise Exception(\"=== Parameter Tuning successfully terminated===\")\n",
      "Exception: === Parameter Tuning successfully terminated===\n",
      "Process Process-2:\n",
      "Traceback (most recent call last):\n",
      "  File \"/usr/lib/python3.10/multiprocessing/process.py\", line 314, in _bootstrap\n",
      "    self.run()\n",
      "  File \"/usr/lib/python3.10/multiprocessing/process.py\", line 108, in run\n",
      "    self._target(*self._args, **self._kwargs)\n",
      "  File \"/content/drive/MyDrive/Algo/algo-trading/src/app/src/cli_v2.py\", line 269, in sma_cross_v2_config_process\n",
      "    return get_sma_cross_strategy_v2_optimum_params(**config)\n",
      "  File \"/content/drive/MyDrive/Algo/algo-trading/src/app/src/cli_v2.py\", line 221, in get_sma_cross_strategy_v2_optimum_params\n",
      "    raise Exception(\"=== Parameter Tuning successfully terminated===\")\n",
      "Exception: === Parameter Tuning successfully terminated===\n"
     ]
    }
   ]
  },
  {
   "cell_type": "code",
   "execution_count": 10,
   "metadata": {
    "colab": {
     "base_uri": "https://localhost:8080/"
    },
    "id": "6_J0OBw_qnFh",
    "outputId": "73683d59-333f-4f25-e331-eb8890d6b56e"
   },
   "outputs": [
    {
     "output_type": "stream",
     "name": "stdout",
     "text": [
      "INFO: 2023-10-06 02:32:00 PM, BUY EXECUTED, 255.80\n",
      "INFO: 2023-10-06 10:56:00 PM, SELL EXECUTED, 259.86 with quantity of 3.1274433151\n",
      "INFO: 2023-10-09 08:34:00 PM, BUY EXECUTED, 253.36\n",
      "INFO: 2023-10-09 11:45:00 PM, SELL EXECUTED, 258.48 with quantity of 3.2076784807\n",
      "INFO: 2023-10-13 09:45:00 PM, BUY EXECUTED, 253.00\n",
      "INFO: Number of Trades: 2\n",
      "Return on investment: 2.6%\n"
     ]
    }
   ],
   "source": [
    "buy_profit_threshold=1.0\n",
    "slow_ma_period=15\n",
    "high_low_period=21\n",
    "high_low_tolerance=0.5\n",
    "sell_profit_threshold=3.0\n",
    "\n",
    "\n",
    "\n",
    "!pdm run algo --values {buy_profit_threshold} {slow_ma_period} {high_low_period} {high_low_tolerance} {sell_profit_threshold}"
   ]
  },
  {
   "cell_type": "code",
   "execution_count": null,
   "metadata": {
    "id": "meALQVr0D0f0"
   },
   "outputs": [],
   "source": [
    "# %cd \"/content/drive/MyDrive/algo-trading\"\n",
    "# # !pdm init  # Follow the prompts to initialize the project\n",
    "# !pdm config python.use_venv false\n",
    "# !pdm use /usr/bin/python3\n",
    "# !pdm sync\n",
    "\n"
   ]
  }
 ],
 "metadata": {
  "colab": {
   "provenance": [],
   "mount_file_id": "1l8RCWCTH8AhKEzW0r_6FdL2iISQwHWU-",
   "authorship_tag": "ABX9TyM6i976cmN8I8Mv28YGT4ec",
   "include_colab_link": true
  },
  "kernelspec": {
   "display_name": "Python 3",
   "name": "python3"
  },
  "language_info": {
   "name": "python"
  }
 },
 "nbformat": 4,
 "nbformat_minor": 0
}
